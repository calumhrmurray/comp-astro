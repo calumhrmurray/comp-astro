{
 "cells": [
  {
   "cell_type": "code",
   "execution_count": 30,
   "metadata": {
    "collapsed": true
   },
   "outputs": [],
   "source": [
    "import numpy as np\n",
    "import math\n",
    "import matplotlib.pyplot as plt\n",
    "%matplotlib inline"
   ]
  },
  {
   "cell_type": "code",
   "execution_count": 98,
   "metadata": {
    "collapsed": false
   },
   "outputs": [],
   "source": [
    "def explicit_first(u_array,j,delta_x,delta_t,v):\n",
    "    if j == 0:\n",
    "        left = 0\n",
    "        right = 1\n",
    "    elif j == len(u_array)-1:\n",
    "        left = j-1\n",
    "        right = 1\n",
    "    else:\n",
    "        left = j-1\n",
    "        right = j+1\n",
    "    return u_array[j]+((v*delta_t)/(delta_x*delta_x))*(u_array[right]+u_array[left]-2*u_array[j])\n",
    "\n",
    "def equation_w_sum(x,t,v,n):\n",
    "    return math.sin((math.pi)*n/2)*math.sin(math.pi*n*x)*math.exp(-1*pow(math.pi*n,2)*v*t)\n",
    "\n",
    "def analytic_solution(x,t,v):\n",
    "    array = [equation_w_sum(x,t,v,n) for n in range(0,100)]\n",
    "    return 2*np.sum(array)"
   ]
  },
  {
   "cell_type": "code",
   "execution_count": 99,
   "metadata": {
    "collapsed": false
   },
   "outputs": [
    {
     "data": {
      "text/plain": [
       "[<matplotlib.lines.Line2D at 0x7f004b728a90>,\n",
       " <matplotlib.lines.Line2D at 0x7f004b7288d0>]"
      ]
     },
     "execution_count": 99,
     "metadata": {},
     "output_type": "execute_result"
    },
    {
     "data": {
      "image/png": "[encoded data removed]",
      "text/plain": [
       "<matplotlib.figure.Figure at 0x7f004b4d84d0>"
      ]
     },
     "metadata": {},
     "output_type": "display_data"
    }
   ],
   "source": [
    "# initial conditions\n",
    "delta_x = 0.1\n",
    "delta_t = 0.1\n",
    "v = 0.001\n",
    "t = 1\n",
    "positions = np.arange(0,1,0.01)\n",
    "u_array = [analytic_solution(x,t,v) for x in positions]\n",
    "t = 3\n",
    "new_u_array = [analytic_solution(x,t,v) for x in positions]\n",
    "\n",
    "plt.plot(positions,u_array,positions,new_u_array)"
   ]
  },
  {
   "cell_type": "code",
   "execution_count": 108,
   "metadata": {
    "collapsed": false
   },
   "outputs": [
    {
     "name": "stdout",
     "output_type": "stream",
     "text": [
      "100\n",
      "100\n",
      "100\n",
      "100\n",
      "100\n",
      "100\n",
      "100\n",
      "100\n",
      "100\n",
      "100\n",
      "100\n",
      "100\n",
      "100\n",
      "100\n",
      "100\n",
      "100\n",
      "100\n",
      "100\n",
      "100\n",
      "100\n"
     ]
    }
   ],
   "source": [
    "# now we increment in time\n",
    "time = np.arange(1,3,0.1)\n",
    "\n",
    "v = 0.001\n",
    "delta_x = 0.1\n",
    "delta_t = 0.1\n",
    "\n",
    "previous_array = u_array\n",
    "\n",
    "for t in time:\n",
    "    data = []\n",
    "    for j,x in enumerate(positions):\n",
    "        data.append(explicit_first(previous_array,j,delta_x,delta_t,v))\n",
    "    previous_array = data\n",
    "    print(len(previous_array))\n"
   ]
  },
  {
   "cell_type": "code",
   "execution_count": 109,
   "metadata": {
    "collapsed": false
   },
   "outputs": [
    {
     "data": {
      "text/plain": [
       "[<matplotlib.lines.Line2D at 0x7f004b505e50>]"
      ]
     },
     "execution_count": 109,
     "metadata": {},
     "output_type": "execute_result"
    },
    {
     "data": {
      "image/png": "[encoded data removed]",
      "text/plain": [
       "<matplotlib.figure.Figure at 0x7f004b485e10>"
      ]
     },
     "metadata": {},
     "output_type": "display_data"
    }
   ],
   "source": [
    "plt.plot(positions,data)"
   ]
  },
  {
   "cell_type": "code",
   "execution_count": null,
   "metadata": {
    "collapsed": true
   },
   "outputs": [],
   "source": []
  },
  {
   "cell_type": "code",
   "execution_count": null,
   "metadata": {
    "collapsed": true
   },
   "outputs": [],
   "source": []
  }
 ],
 "metadata": {
  "kernelspec": {
   "display_name": "Python 2",
   "language": "python",
   "name": "python2"
  },
  "language_info": {
   "codemirror_mode": {
    "name": "ipython",
    "version": 2
   },
   "file_extension": ".py",
   "mimetype": "text/x-python",
   "name": "python",
   "nbconvert_exporter": "python",
   "pygments_lexer": "ipython2",
   "version": "2.7.9"
  }
 },
 "nbformat": 4,
 "nbformat_minor": 0
}
