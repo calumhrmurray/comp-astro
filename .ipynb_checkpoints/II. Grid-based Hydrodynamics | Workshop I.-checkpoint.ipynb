{
 "cells": [
  {
   "cell_type": "markdown",
   "metadata": {},
   "source": [
    "# II. Grid-based Hydrodynamics"
   ]
  },
  {
   "cell_type": "markdown",
   "metadata": {},
   "source": [
    "## Practice Workshop 1"
   ]
  },
  {
   "cell_type": "markdown",
   "metadata": {},
   "source": [
    "The project write-up should include the following components:\n",
    "1. Introduction. Describe the aims and theory.\n",
    "2. Methods. Explain the methods (incl. software/hardware).\n",
    "3. Results. Present the results, including figures and tables.\n",
    "4. Analysis. Analyse and discuss the results in relation to the theory.\n",
    "5. Summary conclusions. Summarise the principal results and draw conclusions."
   ]
  },
  {
   "cell_type": "markdown",
   "metadata": {},
   "source": [
    "### Introduction\n",
    "\n",
    "Here we aim to see the effect of three difference approximations to the first derivative on the accuracy and order of convergence of a function $e^{x}$ .\n",
    "\n",
    "Explain the limitations to accuracy.\n",
    "\n",
    "We explore the forward-difference, backward-difference and centered-difference approximations. Since the first two methods are accurate to the first order and the last is second order accurate we expect the centered difference approximation to be closest to the actual value."
   ]
  },
  {
   "cell_type": "markdown",
   "metadata": {},
   "source": [
    "### Methods\n",
    "\n",
    "For this task the programming language python has been used and since the code is not complicated all this has been presented within a Jupyter notebook. However the code was initially just created with the gedit text editor, this has also been attached to my submission for completeness. \n",
    "\n",
    "Following is the code used."
   ]
  },
  {
   "cell_type": "code",
   "execution_count": 20,
   "metadata": {
    "collapsed": false
   },
   "outputs": [
    {
     "name": "stdout",
     "output_type": "stream",
     "text": [
      "1.0 1.718281828459045 0.6321205588285577 1.1752011936438014\n",
      "0.1 1.0517091807564771 0.9516258196404048 1.001667500198441\n",
      "0.001 1.0005001667083846 0.9995001666249781 1.0000001666666813\n",
      "0.0001 1.000050001667141 0.9999500016666385 1.0000000016668897\n"
     ]
    }
   ],
   "source": [
    "# used for e\n",
    "import math\n",
    "\n",
    "# forward-difference approximation\n",
    "def forward(x,delta_x):\n",
    "    return (math.exp(x+delta_x)-math.exp(x))/delta_x\n",
    "\n",
    "# backward-difference approximation\n",
    "def backward(x,delta_x):\n",
    "    return (math.exp(x)-math.exp(x-delta_x))/delta_x\n",
    "\n",
    "# centered-difference approximation\n",
    "def centered(x,delta_x):\n",
    "    return (math.exp(x+delta_x)-math.exp(x-delta_x))/(2*delta_x)\n",
    "\n",
    "# computes each difference approximation given a value x where the derivative is evaluated at \n",
    "# and delta x (what is delta x?)\n",
    "def line(x,delta_x):\n",
    "    print(delta_x,forward(x,delta_x),backward(x,delta_x),centered(x,delta_x))\n",
    "    return\n",
    "\n",
    "line(0,1.0)\n",
    "line(0,0.1) \n",
    "line(0,0.001)\n",
    "line(0,0.0001)"
   ]
  },
  {
   "cell_type": "markdown",
   "metadata": {},
   "source": [
    "### Results\n",
    "\n",
    "Presented here are the results from the calculations.\n",
    "\n",
    "Δx  | Forward | Backward | Centered\n",
    "  ------------- | -------------\n",
    "  1.0 | 1.718281828459045 | 0.6321205588285577 | 1.1752011936438014\n",
    "  0.1 | 1.0517091807564771 | 0.9516258196404048 | 1.001667500198441\n",
    "0.001 | 1.0005001667083846 | 0.9995001666249781 | 1.0000001666666813\n",
    "0.0001 | 1.000050001667141 | 0.9999500016666385 | 1.0000000016668897\n",
    "\n",
    "The actual value is 1"
   ]
  },
  {
   "cell_type": "markdown",
   "metadata": {},
   "source": [
    "Show how the errors decrease"
   ]
  },
  {
   "cell_type": "markdown",
   "metadata": {},
   "source": [
    "### Analysis\n",
    "\n",
    "As expected the centered-difference approximation gives the most accurate results. The error in the forward and backward schemes decrease linearly with Δx and quadratically for the centered scheme."
   ]
  },
  {
   "cell_type": "markdown",
   "metadata": {},
   "source": [
    "### Summary"
   ]
  },
  {
   "cell_type": "code",
   "execution_count": null,
   "metadata": {
    "collapsed": true
   },
   "outputs": [],
   "source": []
  }
 ],
 "metadata": {
  "kernelspec": {
   "display_name": "Python 3",
   "language": "python",
   "name": "python3"
  },
  "language_info": {
   "codemirror_mode": {
    "name": "ipython",
    "version": 3
   },
   "file_extension": ".py",
   "mimetype": "text/x-python",
   "name": "python",
   "nbconvert_exporter": "python",
   "pygments_lexer": "ipython3",
   "version": "3.5.1"
  }
 },
 "nbformat": 4,
 "nbformat_minor": 0
}
